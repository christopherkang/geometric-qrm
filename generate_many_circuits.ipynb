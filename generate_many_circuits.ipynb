{
 "cells": [
  {
   "cell_type": "code",
   "execution_count": 6,
   "metadata": {},
   "outputs": [],
   "source": [
    "import geometric_qrm\n",
    "import numpy as np\n",
    "import os"
   ]
  },
  {
   "cell_type": "code",
   "execution_count": 4,
   "metadata": {},
   "outputs": [],
   "source": [
    "def clear_folder():\n",
    "    for filename in os.listdir(\"circuits\"):\n",
    "        os.remove(\"circuits/\" + filename)"
   ]
  },
  {
   "cell_type": "code",
   "execution_count": 7,
   "metadata": {},
   "outputs": [],
   "source": [
    "# clear_folder()"
   ]
  },
  {
   "cell_type": "code",
   "execution_count": 9,
   "metadata": {},
   "outputs": [],
   "source": [
    "M_MAX = 8\n",
    "\n",
    "for m in range(1, M_MAX + 1):\n",
    "    for r in range(m + 1):\n",
    "        for q in range(r):\n",
    "            # we have constructed valid codes, now choose k, KSize\n",
    "            \n",
    "            for k in range(2, (m - (q + 1)) // r + 1):\n",
    "                for KSize in range(0, m + 1):\n",
    "                    circ = geometric_qrm.make_code(k, KSize, m, q, r)\n",
    "                    \n",
    "                    if circ:\n",
    "                        with open(f\"circuits/{k}_{KSize}_{m}_{q}_{r}.tex\", \"w\") as f:\n",
    "                            f.write(circ)"
   ]
  },
  {
   "cell_type": "code",
   "execution_count": 3,
   "metadata": {},
   "outputs": [
    {
     "ename": "AssertionError",
     "evalue": "",
     "output_type": "error",
     "traceback": [
      "\u001b[1;31m---------------------------------------------------------------------------\u001b[0m",
      "\u001b[1;31mAssertionError\u001b[0m                            Traceback (most recent call last)",
      "Cell \u001b[1;32mIn[3], line 1\u001b[0m\n\u001b[1;32m----> 1\u001b[0m \u001b[43mgeometric_qrm\u001b[49m\u001b[38;5;241;43m.\u001b[39;49m\u001b[43mcompute_logic\u001b[49m\u001b[43m(\u001b[49m\u001b[38;5;241;43m4\u001b[39;49m\u001b[43m,\u001b[49m\u001b[43m \u001b[49m\u001b[38;5;28;43mrange\u001b[39;49m\u001b[43m(\u001b[49m\u001b[38;5;241;43m1\u001b[39;49m\u001b[43m,\u001b[49m\u001b[43m \u001b[49m\u001b[38;5;241;43m5\u001b[39;49m\u001b[43m \u001b[49m\u001b[38;5;241;43m+\u001b[39;49m\u001b[43m \u001b[49m\u001b[38;5;241;43m1\u001b[39;49m\u001b[43m)\u001b[49m\u001b[43m,\u001b[49m\u001b[43m \u001b[49m\u001b[38;5;241;43m2\u001b[39;49m\u001b[43m,\u001b[49m\u001b[43m \u001b[49m\u001b[38;5;241;43m0\u001b[39;49m\u001b[43m,\u001b[49m\u001b[43m \u001b[49m\u001b[38;5;241;43m1\u001b[39;49m\u001b[43m)\u001b[49m\n",
      "File \u001b[1;32mc:\\Users\\keepw\\Documents\\Research\\geometric-qrm\\geometric_qrm.py:86\u001b[0m, in \u001b[0;36mcompute_logic\u001b[1;34m(k, K, m, q, r)\u001b[0m\n\u001b[0;32m     84\u001b[0m \u001b[38;5;28;01massert\u001b[39;00m m \u001b[38;5;241m>\u001b[39m \u001b[38;5;241m0\u001b[39m \n\u001b[0;32m     85\u001b[0m \u001b[38;5;28;01massert\u001b[39;00m q \u001b[38;5;241m<\u001b[39m r\n\u001b[1;32m---> 86\u001b[0m \u001b[38;5;28;01massert\u001b[39;00m \u001b[38;5;28mlen\u001b[39m(K) \u001b[38;5;241m<\u001b[39m\u001b[38;5;241m=\u001b[39m m\n\u001b[0;32m     87\u001b[0m \u001b[38;5;66;03m# K need to be a set, k is an int\u001b[39;00m\n\u001b[0;32m     89\u001b[0m map_logqubit_int \u001b[38;5;241m=\u001b[39m indexed_logical_qubits(m, q, r)\n",
      "\u001b[1;31mAssertionError\u001b[0m: "
     ]
    }
   ],
   "source": [
    "geometric_qrm.compute_logic(4, range(1, 5 + 1), 2, 0, 1)"
   ]
  },
  {
   "cell_type": "code",
   "execution_count": 3,
   "metadata": {},
   "outputs": [
    {
     "ename": "KeyError",
     "evalue": "(5,)",
     "output_type": "error",
     "traceback": [
      "\u001b[1;31m---------------------------------------------------------------------------\u001b[0m",
      "\u001b[1;31mKeyError\u001b[0m                                  Traceback (most recent call last)",
      "Cell \u001b[1;32mIn[3], line 1\u001b[0m\n\u001b[1;32m----> 1\u001b[0m \u001b[43mgeometric_qrm\u001b[49m\u001b[38;5;241;43m.\u001b[39;49m\u001b[43mmake_code\u001b[49m\u001b[43m(\u001b[49m\u001b[38;5;241;43m4\u001b[39;49m\u001b[43m,\u001b[49m\u001b[43m \u001b[49m\u001b[38;5;241;43m5\u001b[39;49m\u001b[43m,\u001b[49m\u001b[43m \u001b[49m\u001b[38;5;241;43m2\u001b[39;49m\u001b[43m,\u001b[49m\u001b[43m \u001b[49m\u001b[38;5;241;43m0\u001b[39;49m\u001b[43m,\u001b[49m\u001b[43m \u001b[49m\u001b[38;5;241;43m1\u001b[39;49m\u001b[43m)\u001b[49m\n",
      "File \u001b[1;32mc:\\Users\\keepw\\Documents\\Research\\geometric-qrm\\geometric_qrm.py:160\u001b[0m, in \u001b[0;36mmake_code\u001b[1;34m(k, Kmax, m, q, r)\u001b[0m\n\u001b[0;32m    158\u001b[0m \u001b[38;5;28;01mdef\u001b[39;00m \u001b[38;5;21mmake_code\u001b[39m(k, Kmax, m, q, r,):\n\u001b[0;32m    159\u001b[0m     K \u001b[38;5;241m=\u001b[39m \u001b[38;5;28mrange\u001b[39m(\u001b[38;5;241m1\u001b[39m, Kmax \u001b[38;5;241m+\u001b[39m \u001b[38;5;241m1\u001b[39m)\n\u001b[1;32m--> 160\u001b[0m     circ \u001b[38;5;241m=\u001b[39m \u001b[43mcompute_logic\u001b[49m\u001b[43m(\u001b[49m\u001b[43mm\u001b[49m\u001b[43m,\u001b[49m\u001b[43m \u001b[49m\u001b[43mq\u001b[49m\u001b[43m,\u001b[49m\u001b[43m \u001b[49m\u001b[43mr\u001b[49m\u001b[43m,\u001b[49m\u001b[43m \u001b[49m\u001b[43mK\u001b[49m\u001b[43m,\u001b[49m\u001b[43m \u001b[49m\u001b[43mk\u001b[49m\u001b[43m)\u001b[49m\n\u001b[0;32m    161\u001b[0m     \u001b[38;5;28;01mif\u001b[39;00m \u001b[38;5;129;01mnot\u001b[39;00m circ:\n\u001b[0;32m    162\u001b[0m         \u001b[38;5;66;03m# catches cases where the logical circuit is either trivial or invalid\u001b[39;00m\n\u001b[0;32m    163\u001b[0m         \u001b[38;5;28;01mreturn\u001b[39;00m \u001b[38;5;28;01mFalse\u001b[39;00m\n",
      "File \u001b[1;32mc:\\Users\\keepw\\Documents\\Research\\geometric-qrm\\geometric_qrm.py:97\u001b[0m, in \u001b[0;36mcompute_logic\u001b[1;34m(m, q, r, K, k)\u001b[0m\n\u001b[0;32m     95\u001b[0m out \u001b[38;5;241m=\u001b[39m []\n\u001b[0;32m     96\u001b[0m \u001b[38;5;28;01mfor\u001b[39;00m targs \u001b[38;5;129;01min\u001b[39;00m logical_circuit:\n\u001b[1;32m---> 97\u001b[0m     mapped_targs \u001b[38;5;241m=\u001b[39m \u001b[43m[\u001b[49m\u001b[43mmap_logqubit_int\u001b[49m\u001b[43m[\u001b[49m\u001b[43mqid\u001b[49m\u001b[43m]\u001b[49m\u001b[43m \u001b[49m\u001b[38;5;28;43;01mfor\u001b[39;49;00m\u001b[43m \u001b[49m\u001b[43mqid\u001b[49m\u001b[43m \u001b[49m\u001b[38;5;129;43;01min\u001b[39;49;00m\u001b[43m \u001b[49m\u001b[43mtargs\u001b[49m\u001b[43m]\u001b[49m\n\u001b[0;32m     98\u001b[0m     out\u001b[38;5;241m.\u001b[39mappend(mapped_targs\u001b[38;5;241m.\u001b[39mcopy())\n\u001b[0;32m    100\u001b[0m \u001b[38;5;28;01mreturn\u001b[39;00m out\n",
      "File \u001b[1;32mc:\\Users\\keepw\\Documents\\Research\\geometric-qrm\\geometric_qrm.py:97\u001b[0m, in \u001b[0;36m<listcomp>\u001b[1;34m(.0)\u001b[0m\n\u001b[0;32m     95\u001b[0m out \u001b[38;5;241m=\u001b[39m []\n\u001b[0;32m     96\u001b[0m \u001b[38;5;28;01mfor\u001b[39;00m targs \u001b[38;5;129;01min\u001b[39;00m logical_circuit:\n\u001b[1;32m---> 97\u001b[0m     mapped_targs \u001b[38;5;241m=\u001b[39m [\u001b[43mmap_logqubit_int\u001b[49m\u001b[43m[\u001b[49m\u001b[43mqid\u001b[49m\u001b[43m]\u001b[49m \u001b[38;5;28;01mfor\u001b[39;00m qid \u001b[38;5;129;01min\u001b[39;00m targs]\n\u001b[0;32m     98\u001b[0m     out\u001b[38;5;241m.\u001b[39mappend(mapped_targs\u001b[38;5;241m.\u001b[39mcopy())\n\u001b[0;32m    100\u001b[0m \u001b[38;5;28;01mreturn\u001b[39;00m out\n",
      "\u001b[1;31mKeyError\u001b[0m: (5,)"
     ]
    }
   ],
   "source": [
    "geometric_qrm.make_code(4, 5, 2, 0, 1)"
   ]
  },
  {
   "cell_type": "code",
   "execution_count": 4,
   "metadata": {},
   "outputs": [
    {
     "name": "stdout",
     "output_type": "stream",
     "text": [
      "ye\n"
     ]
    }
   ],
   "source": [
    "if not []:\n",
    "    print(\"ye\")"
   ]
  }
 ],
 "metadata": {
  "kernelspec": {
   "display_name": "verity-full",
   "language": "python",
   "name": "python3"
  },
  "language_info": {
   "codemirror_mode": {
    "name": "ipython",
    "version": 3
   },
   "file_extension": ".py",
   "mimetype": "text/x-python",
   "name": "python",
   "nbconvert_exporter": "python",
   "pygments_lexer": "ipython3",
   "version": "3.11.7"
  }
 },
 "nbformat": 4,
 "nbformat_minor": 2
}
