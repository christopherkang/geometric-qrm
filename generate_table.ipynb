{
 "cells": [
  {
   "cell_type": "code",
   "execution_count": 1,
   "metadata": {},
   "outputs": [
    {
     "name": "stderr",
     "output_type": "stream",
     "text": [
      "C:\\Users\\keepw\\AppData\\Local\\Temp\\ipykernel_39356\\2162656668.py:1: DeprecationWarning: \n",
      "Pyarrow will become a required dependency of pandas in the next major release of pandas (pandas 3.0),\n",
      "(to allow more performant data types, such as the Arrow string type, and better interoperability with other libraries)\n",
      "but was not found to be installed on your system.\n",
      "If this would cause problems for you,\n",
      "please provide us feedback at https://github.com/pandas-dev/pandas/issues/54466\n",
      "        \n",
      "  import pandas as pd\n"
     ]
    }
   ],
   "source": [
    "import pandas as pd\n",
    "import numpy as np"
   ]
  },
  {
   "cell_type": "code",
   "execution_count": 2,
   "metadata": {},
   "outputs": [],
   "source": [
    "def nck(n, k):\n",
    "    return fact(n) // (fact(k) * fact(n - k))\n",
    "    \n",
    "\n",
    "def fact(n):\n",
    "    out = 1\n",
    "    for i in range(n):\n",
    "        out *= n - i \n",
    "    \n",
    "    return out"
   ]
  },
  {
   "cell_type": "code",
   "execution_count": 3,
   "metadata": {},
   "outputs": [],
   "source": [
    "M_MAX = 20"
   ]
  },
  {
   "cell_type": "code",
   "execution_count": 4,
   "metadata": {},
   "outputs": [],
   "source": [
    "def compute_logicals(m, q, r):\n",
    "    out = 0\n",
    "    for i in range(q + 1, r + 1):\n",
    "        out += nck(m, i)\n",
    "    \n",
    "    return out\n"
   ]
  },
  {
   "cell_type": "code",
   "execution_count": 5,
   "metadata": {},
   "outputs": [],
   "source": [
    "df = pd.DataFrame(columns=[\"m\", \"q\", \"r\", \"n\", \"k\", \"d\", \"k*\"])\n",
    "\n",
    "idx = 0\n",
    "for m in range(M_MAX + 1):\n",
    "    # now, iterate through all q, r parameters\n",
    "    # enforce r > q, r <= m - 1\n",
    "    \n",
    "    n_phys = 2**m\n",
    "    \n",
    "    for r in range(1, m):\n",
    "        for q in range(0, r):\n",
    "            # compute k, k^*, d\n",
    "            k_logs = compute_logicals(m, q, r)\n",
    "            k_star = (m - (q + 1)) // r\n",
    "            d = 2**(min(q + 1, m - r))\n",
    "            \n",
    "            df.loc[idx] = [m, q, r, n_phys, k_logs, d, k_star]\n",
    "            idx += 1"
   ]
  },
  {
   "cell_type": "code",
   "execution_count": 6,
   "metadata": {},
   "outputs": [],
   "source": [
    "df.to_csv(\"table2.csv\")"
   ]
  },
  {
   "cell_type": "code",
   "execution_count": 7,
   "metadata": {},
   "outputs": [],
   "source": [
    "nontrivial_logic = df[df[\"k*\"] >= 2]\n",
    "nontrivial_logic.to_csv(\"nontrivial.csv\")"
   ]
  }
 ],
 "metadata": {
  "kernelspec": {
   "display_name": "verity-full",
   "language": "python",
   "name": "python3"
  },
  "language_info": {
   "codemirror_mode": {
    "name": "ipython",
    "version": 3
   },
   "file_extension": ".py",
   "mimetype": "text/x-python",
   "name": "python",
   "nbconvert_exporter": "python",
   "pygments_lexer": "ipython3",
   "version": "3.11.7"
  }
 },
 "nbformat": 4,
 "nbformat_minor": 2
}
